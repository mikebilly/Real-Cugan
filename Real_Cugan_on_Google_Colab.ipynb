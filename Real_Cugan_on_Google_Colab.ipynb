{
  "nbformat": 4,
  "nbformat_minor": 0,
  "metadata": {
    "colab": {
      "name": "Real-Cugan on Google Colab.ipynb",
      "provenance": [],
      "collapsed_sections": [],
      "mount_file_id": "1V7DM6j5vhZ6mbDbIEKX4Ysje7PWbYjFQ",
      "authorship_tag": "ABX9TyMp4SOtqbQnTrMeYoCf8C3x",
      "include_colab_link": true
    },
    "kernelspec": {
      "name": "python3",
      "display_name": "Python 3"
    },
    "language_info": {
      "name": "python"
    },
    "accelerator": "GPU",
    "gpuClass": "standard"
  },
  "cells": [
    {
      "cell_type": "markdown",
      "metadata": {
        "id": "view-in-github",
        "colab_type": "text"
      },
      "source": [
        "<a href=\"https://colab.research.google.com/github/mikebilly/Real-Cugan/blob/main/Real_Cugan_on_Google_Colab.ipynb\" target=\"_parent\"><img src=\"https://colab.research.google.com/assets/colab-badge.svg\" alt=\"Open In Colab\"/></a>"
      ]
    },
    {
      "cell_type": "code",
      "execution_count": null,
      "metadata": {
        "id": "UFoz7cl6XPJw"
      },
      "outputs": [],
      "source": [
        "import os\n",
        "os.chdir('/content')\n",
        "ROOTPATH=\"/content/ailab/\" # root dir (a constant)\n",
        "ModelPath=ROOTPATH+\"Real-CUGAN/model/\" # model dir\n",
        "PendingPath=\"/content/gdrive/MyDrive/\" # input dir\n",
        "ModelName=\"pro-no-denoise-up2x.pth\" # default model\n",
        "Tile=4 #{0,1,2,3,4,auto}; the larger the number, the smaller the memory consumption\n",
        "# initialize environment\n",
        "!pip install torch opencv-python\n",
        "!git clone https://github.com/bilibili/ailab.git\n",
        "from google.colab import drive\n",
        "drive.mount('/content/drive')\n",
        "import os\n",
        "os.mkdir(ModelPath)\n",
        "%cd /content/ailab/Real-CUGAN/model\n",
        "!gdown 1Xgfe2KUw4BSRj45aQBaszOpJizqn0UkE\n",
        "!gdown 1c9x6nS1r2b_y0L5nzlq6N7h0STp6KZJ4\n",
        "!gdown 1GgIGuxbpZB9adhCCUsHZ__oEz2YSNo_B\n",
        "!gdown 10Z7s9IJVDOWC622qec4Is3SMzoBGCu-o"
      ]
    },
    {
      "cell_type": "code",
      "source": [
        "fileNames = os.listdir(ModelPath)\n",
        "print(\"Model files available:\")\n",
        "for idx, i in enumerate(fileNames):\n",
        "  print(f\"{idx+1}. \\t {i}\")\n",
        "choice = int(input(\"Select model (leave blank for default)：\"))\n",
        "if choice:\n",
        "  ModelName=fileNames[choice-1]\n",
        "Amplification=ModelName[2] # amplifying ratio\n",
        "if (not os.path.isfile(ModelPath+ModelName)):\n",
        "  print(\"Warning: selected model file does not exist\")"
      ],
      "metadata": {
        "id": "gh73nQWae5Ai"
      },
      "execution_count": null,
      "outputs": []
    },
    {
      "cell_type": "code",
      "source": [
        "import sys\n",
        "sys.path.append(\"/content/ailab/Real-CUGAN\")\n",
        "import matplotlib.pyplot as plt\n",
        "%matplotlib inline\n",
        "import torch\n",
        "from torch import nn as nn\n",
        "from torch.nn import functional as F\n",
        "import os,sys,cv2\n",
        "import numpy as np\n",
        "from upcunet_v3 import RealWaifuUpScaler\n",
        "from time import time as ttime  "
      ],
      "metadata": {
        "id": "JkWatSexe7Y2"
      },
      "execution_count": null,
      "outputs": []
    },
    {
      "cell_type": "code",
      "source": [
        "print(ModelName)\n",
        "upscaler = RealWaifuUpScaler(2, ModelPath+ModelName, half=True, device=\"cuda:0\")\n",
        "\n",
        "input_name = \"ur1eowl3u0n31.png\"\n",
        "output_name = \"ur1eowl3u0n31_test.png\"\n",
        "\n",
        "t0 = ttime()\n",
        "torch.cuda.empty_cache()\n",
        "try:\n",
        "  img = cv2.imread(PendingPath+input_name)[:, :, [2, 1, 0]]\n",
        "  result = upscaler(img,tile_mode=5,cache_mode=2,alpha=1)\n",
        "  cv2.imwrite(PendingPath+output_name,result[:, :, ::-1])\n",
        "except RuntimeError as e:\n",
        "  print (output_name+\" FAILED\")\n",
        "  print (e)\n",
        "else:\n",
        "  print(output_name+\" DONE\")\n",
        "\n",
        "t1 = ttime()\n",
        "print(\"time_spent\", t1 - t0)"
      ],
      "metadata": {
        "id": "XyPJCR93e97d"
      },
      "execution_count": null,
      "outputs": []
    },
    {
      "cell_type": "code",
      "source": [
        ""
      ],
      "metadata": {
        "id": "WvYZWjKjLOdO"
      },
      "execution_count": null,
      "outputs": []
    },
    {
      "cell_type": "markdown",
      "source": [
        "# For anime videos\n",
        "1. Download real-cugan pro and save to real /content/ailab/Real-CUGAN/weights_v3, rename to pro-no-denoise-up2x\n",
        "2. Change input and output path in /content/ailab/Real-CUGAN/inference_video.py"
      ],
      "metadata": {
        "id": "p3ffKu0bLSE-"
      }
    },
    {
      "cell_type": "code",
      "source": [
        "!sudo pip3 install imageio==2.4.1"
      ],
      "metadata": {
        "id": "d9HU3STHLoSy"
      },
      "execution_count": null,
      "outputs": []
    },
    {
      "cell_type": "code",
      "source": [
        "os.chdir('/content/ailab/Real-CUGAN')\n",
        "!python3 /content/ailab/Real-CUGAN/inference_video.py"
      ],
      "metadata": {
        "id": "4syeMw-NLyRC"
      },
      "execution_count": null,
      "outputs": []
    }
  ]
}